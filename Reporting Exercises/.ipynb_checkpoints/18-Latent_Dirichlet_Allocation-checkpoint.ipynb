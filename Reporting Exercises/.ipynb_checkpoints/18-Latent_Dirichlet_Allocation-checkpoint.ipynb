{
 "cells": [
  {
   "cell_type": "markdown",
   "id": "e5569ebe-d9bb-4017-a5d6-fd7b87c8307b",
   "metadata": {},
   "source": [
    "# LDA"
   ]
  },
  {
   "cell_type": "code",
   "execution_count": 1,
   "id": "6b481af9-3e7a-4407-8bde-8d01b5d3b738",
   "metadata": {},
   "outputs": [],
   "source": [
    "# Import necessary libraries\n",
    "import spacy\n",
    "import gensim\n",
    "from gensim import corpora\n",
    "from pprint import pprint\n",
    "\n",
    "# Load spaCy's English NLP model\n",
    "# do this before running\n",
    "# python -m spacy download en_core_web_sm\n",
    "nlp = spacy.load('en_core_web_sm')"
   ]
  },
  {
   "cell_type": "markdown",
   "id": "56591d37-365b-4b44-b0a2-f00900104823",
   "metadata": {},
   "source": [
    "# Sample documents for demonstration"
   ]
  },
  {
   "cell_type": "code",
   "execution_count": 2,
   "id": "f72f3c3a-5ca9-4272-8d27-c5af9b0754c1",
   "metadata": {},
   "outputs": [],
   "source": [
    "# documents = [\n",
    "#    \"Natural language processing is a subfield of artificial intelligence.\",\n",
    "#    \"Latent Dirichlet Allocation is a generative probabilistic model.\",\n",
    "#    \"Topic modeling is used to identify topics present in a corpus of text.\",\n",
    "#    \"Gensim is a popular Python library for topic modeling and document similarity.\"\n",
    "# ]\n",
    "\n",
    "documents = [\n",
    "    \"The nice thing about Eventbrite is that it's free to use as long as you're not charging for the event. There is a fee if you are charging for the event -  2.5% plus a $0.99 transaction fee.\",\n",
    "    \"We have the gold level plan and use it for everything, love the features! It is one of the best bang for buck possible.\",\n",
    "    \"Machine learning is a branch of artificial intelligence (AI) and computer science which focuses on the use of data and algorithms to imitate the way that humans learn, gradually improving its accuracy. \\n IBM has a rich history with machine learning. One of its own, Arthur Samuel, is credited for coining the term, “machine learning” with his research (link resides outside ibm.com) around the game of checkers. Robert Nealey, the self-proclaimed checkers master, played the game on an IBM 7094 computer in 1962, and he lost to the computer. Compared to what can be done today, this feat seems trivial, but its considered a major milestone in the field of artificial intelligence.\"\n",
    "]"
   ]
  },
  {
   "cell_type": "markdown",
   "id": "6b04ad12-95ea-4a0a-ac49-f4ee9fbaeee2",
   "metadata": {},
   "source": [
    "# Preprocess the documents"
   ]
  },
  {
   "cell_type": "code",
   "execution_count": 5,
   "id": "a97f87a2-a9f4-4557-aef6-c921bda4e2b6",
   "metadata": {},
   "outputs": [],
   "source": [
    "def preprocess(text):\n",
    "    # Tokenize and lemmatize using spaCy\n",
    "    doc = nlp(text)\n",
    "    tokens = [token.lemma_ for token in doc if not token.is_stop and token.is_alpha]\n",
    "    return tokens\n",
    "\n",
    "# Apply preprocessing to all documents\n",
    "processed_documents = [preprocess(doc) for doc in documents]\n",
    "\n",
    "# Create a dictionary and corpus for LDA\n",
    "dictionary = corpora.Dictionary(processed_documents)\n",
    "corpus = [dictionary.doc2bow(doc) for doc in processed_documents]\n",
    "\n",
    "# Build LDA model\n",
    "lda_model_4 = gensim.models.LdaModel(corpus, num_topics=4, id2word=dictionary, passes=12)\n",
    "\n",
    "lda_model_8 = gensim.models.LdaModel(corpus, num_topics=8, id2word=dictionary, passes=12)\n",
    "\n",
    "lda_model_12 = gensim.models.LdaModel(corpus, num_topics=12, id2word=dictionary, passes=12)"
   ]
  },
  {
   "cell_type": "markdown",
   "id": "05542fa2-2765-4327-bb81-27e6b2d629ef",
   "metadata": {},
   "source": [
    "# Print topics and their keywords"
   ]
  },
  {
   "cell_type": "code",
   "execution_count": 6,
   "id": "1f567bec-dfdf-4dd8-80b3-169eb11aa978",
   "metadata": {},
   "outputs": [
    {
     "name": "stdout",
     "output_type": "stream",
     "text": [
      "LDA Model 4 topics\n",
      "[(0,\n",
      "  '0.075*\"subfield\" + 0.075*\"natural\" + 0.075*\"artificial\" + '\n",
      "  '0.075*\"intelligence\" + 0.075*\"language\" + 0.075*\"processing\" + '\n",
      "  '0.015*\"Allocation\" + 0.015*\"model\" + 0.015*\"Dirichlet\" + 0.015*\"Latent\"'),\n",
      " (1,\n",
      "  '0.055*\"modeling\" + 0.055*\"popular\" + 0.055*\"change\" + 0.055*\"spot\" + '\n",
      "  '0.055*\"stay\" + 0.055*\"step\" + 0.055*\"Gensim\" + 0.055*\"similarity\" + '\n",
      "  '0.055*\"library\" + 0.055*\"Python\"'),\n",
      " (2,\n",
      "  '0.095*\"topic\" + 0.053*\"corpus\" + 0.053*\"text\" + 0.053*\"identify\" + '\n",
      "  '0.053*\"present\" + 0.053*\"modeling\" + 0.053*\"generative\" + '\n",
      "  '0.053*\"probabilistic\" + 0.053*\"Latent\" + 0.053*\"Dirichlet\"'),\n",
      " (3,\n",
      "  '0.047*\"popular\" + 0.047*\"Dota\" + 0.047*\"gamplay\" + 0.047*\"Steam\" + '\n",
      "  '0.047*\"friendly\" + 0.047*\"game\" + 0.047*\"difficult\" + 0.047*\"beginner\" + '\n",
      "  '0.047*\"pc\" + 0.047*\"future\"')]\n"
     ]
    }
   ],
   "source": [
    "print('LDA Model 4 topics')\n",
    "pprint(lda_model_4.print_topics())"
   ]
  },
  {
   "cell_type": "code",
   "execution_count": 7,
   "id": "8a9018cc-55bc-44d8-90fe-63e2d956e594",
   "metadata": {},
   "outputs": [
    {
     "name": "stdout",
     "output_type": "stream",
     "text": [
      "LDA Model 8 topics\n",
      "[(0,\n",
      "  '0.099*\"probabilistic\" + 0.099*\"Allocation\" + 0.099*\"Latent\" + '\n",
      "  '0.099*\"generative\" + 0.099*\"model\" + 0.099*\"Dirichlet\" + 0.011*\"future\" + '\n",
      "  '0.011*\"thankful\" + 0.011*\"topic\" + 0.011*\"spot\"'),\n",
      " (1,\n",
      "  '0.153*\"thankful\" + 0.153*\"future\" + 0.017*\"topic\" + 0.017*\"spot\" + '\n",
      "  '0.017*\"stay\" + 0.017*\"change\" + 0.017*\"subfield\" + 0.017*\"modeling\" + '\n",
      "  '0.017*\"popular\" + 0.017*\"processing\"'),\n",
      " (2,\n",
      "  '0.099*\"natural\" + 0.099*\"artificial\" + 0.099*\"intelligence\" + '\n",
      "  '0.099*\"language\" + 0.099*\"processing\" + 0.099*\"subfield\" + 0.011*\"future\" + '\n",
      "  '0.011*\"thankful\" + 0.011*\"topic\" + 0.011*\"spot\"'),\n",
      " (3,\n",
      "  '0.023*\"future\" + 0.023*\"topic\" + 0.023*\"spot\" + 0.023*\"thankful\" + '\n",
      "  '0.023*\"stay\" + 0.023*\"Dirichlet\" + 0.023*\"subfield\" + 0.023*\"step\" + '\n",
      "  '0.023*\"processing\" + 0.023*\"language\"'),\n",
      " (4,\n",
      "  '0.172*\"topic\" + 0.091*\"modeling\" + 0.091*\"identify\" + 0.091*\"text\" + '\n",
      "  '0.091*\"present\" + 0.091*\"corpus\" + 0.010*\"future\" + 0.010*\"thankful\" + '\n",
      "  '0.010*\"stay\" + 0.010*\"change\"'),\n",
      " (5,\n",
      "  '0.023*\"future\" + 0.023*\"thankful\" + 0.023*\"topic\" + 0.023*\"stay\" + '\n",
      "  '0.023*\"change\" + 0.023*\"modeling\" + 0.023*\"spot\" + 0.023*\"intelligence\" + '\n",
      "  '0.023*\"popular\" + 0.023*\"Dirichlet\"'),\n",
      " (6,\n",
      "  '0.065*\"Python\" + 0.065*\"Gensim\" + 0.065*\"similarity\" + 0.065*\"library\" + '\n",
      "  '0.065*\"document\" + 0.065*\"step\" + 0.065*\"change\" + 0.065*\"stay\" + '\n",
      "  '0.065*\"spot\" + 0.065*\"popular\"'),\n",
      " (7,\n",
      "  '0.058*\"popular\" + 0.058*\"friendly\" + 0.058*\"mechanic\" + 0.058*\"know\" + '\n",
      "  '0.058*\"game\" + 0.058*\"pc\" + 0.058*\"available\" + 0.058*\"non\" + '\n",
      "  '0.058*\"difficult\" + 0.058*\"MOBA\"')]\n"
     ]
    }
   ],
   "source": [
    "print('LDA Model 8 topics')\n",
    "pprint(lda_model_8.print_topics())"
   ]
  },
  {
   "cell_type": "code",
   "execution_count": 8,
   "id": "b055ff35-6442-429a-8fe3-a760c805b984",
   "metadata": {},
   "outputs": [
    {
     "name": "stdout",
     "output_type": "stream",
     "text": [
      "LDA Model 12 topics\n",
      "[(0,\n",
      "  '0.023*\"thankful\" + 0.023*\"Allocation\" + 0.023*\"step\" + 0.023*\"future\" + '\n",
      "  '0.023*\"Latent\" + 0.023*\"topic\" + 0.023*\"spot\" + 0.023*\"modeling\" + '\n",
      "  '0.023*\"subfield\" + 0.023*\"intelligence\"'),\n",
      " (1,\n",
      "  '0.143*\"step\" + 0.143*\"stay\" + 0.143*\"spot\" + 0.143*\"change\" + '\n",
      "  '0.011*\"thankful\" + 0.011*\"modeling\" + 0.011*\"future\" + 0.011*\"topic\" + '\n",
      "  '0.011*\"artificial\" + 0.011*\"friendly\"'),\n",
      " (2,\n",
      "  '0.113*\"model\" + 0.113*\"probabilistic\" + 0.113*\"generative\" + '\n",
      "  '0.113*\"Allocation\" + 0.113*\"Latent\" + 0.113*\"Dirichlet\" + 0.009*\"thankful\" '\n",
      "  '+ 0.009*\"modeling\" + 0.009*\"topic\" + 0.009*\"future\"'),\n",
      " (3,\n",
      "  '0.023*\"thankful\" + 0.023*\"future\" + 0.023*\"step\" + 0.023*\"topic\" + '\n",
      "  '0.023*\"intelligence\" + 0.023*\"modeling\" + 0.023*\"spot\" + 0.023*\"change\" + '\n",
      "  '0.023*\"beginner\" + 0.023*\"MOBA\"'),\n",
      " (4,\n",
      "  '0.062*\"Gensim\" + 0.062*\"library\" + 0.062*\"similarity\" + 0.062*\"document\" + '\n",
      "  '0.062*\"Python\" + 0.062*\"intelligence\" + 0.062*\"artificial\" + '\n",
      "  '0.062*\"subfield\" + 0.062*\"language\" + 0.062*\"processing\"'),\n",
      " (5,\n",
      "  '0.023*\"thankful\" + 0.023*\"future\" + 0.023*\"topic\" + 0.023*\"step\" + '\n",
      "  '0.023*\"present\" + 0.023*\"subfield\" + 0.023*\"spot\" + 0.023*\"modeling\" + '\n",
      "  '0.023*\"change\" + 0.023*\"friendly\"'),\n",
      " (6,\n",
      "  '0.062*\"popular\" + 0.062*\"gamplay\" + 0.062*\"MOBA\" + 0.062*\"Steam\" + '\n",
      "  '0.062*\"available\" + 0.062*\"beginner\" + 0.062*\"difficult\" + 0.062*\"friendly\" '\n",
      "  '+ 0.062*\"game\" + 0.062*\"know\"'),\n",
      " (7,\n",
      "  '0.023*\"thankful\" + 0.023*\"subfield\" + 0.023*\"topic\" + 0.023*\"future\" + '\n",
      "  '0.023*\"modeling\" + 0.023*\"change\" + 0.023*\"beginner\" + 0.023*\"difficult\" + '\n",
      "  '0.023*\"mechanic\" + 0.023*\"Steam\"'),\n",
      " (8,\n",
      "  '0.024*\"Dirichlet\" + 0.024*\"Latent\" + 0.024*\"Allocation\" + '\n",
      "  '0.024*\"generative\" + 0.024*\"probabilistic\" + 0.024*\"model\" + '\n",
      "  '0.023*\"thankful\" + 0.023*\"intelligence\" + 0.023*\"modeling\" + 0.023*\"step\"'),\n",
      " (9,\n",
      "  '0.194*\"future\" + 0.194*\"thankful\" + 0.015*\"popular\" + 0.015*\"step\" + '\n",
      "  '0.015*\"topic\" + 0.015*\"modeling\" + 0.015*\"subfield\" + 0.015*\"change\" + '\n",
      "  '0.015*\"MOBA\" + 0.015*\"difficult\"'),\n",
      " (10,\n",
      "  '0.197*\"topic\" + 0.102*\"modeling\" + 0.102*\"corpus\" + 0.102*\"present\" + '\n",
      "  '0.102*\"identify\" + 0.102*\"text\" + 0.008*\"future\" + 0.008*\"intelligence\" + '\n",
      "  '0.008*\"step\" + 0.008*\"spot\"'),\n",
      " (11,\n",
      "  '0.023*\"thankful\" + 0.023*\"subfield\" + 0.023*\"topic\" + 0.023*\"future\" + '\n",
      "  '0.023*\"modeling\" + 0.023*\"change\" + 0.023*\"beginner\" + 0.023*\"difficult\" + '\n",
      "  '0.023*\"mechanic\" + 0.023*\"Steam\"')]\n"
     ]
    }
   ],
   "source": [
    "print('LDA Model 12 topics')\n",
    "pprint(lda_model_12.print_topics())"
   ]
  },
  {
   "cell_type": "markdown",
   "id": "000de19a-8dd4-40e5-966b-25442d67ce78",
   "metadata": {},
   "source": [
    "# Assign topics to documents"
   ]
  },
  {
   "cell_type": "code",
   "execution_count": 9,
   "id": "da343547-03b4-41b6-b1b6-1faba58a87a5",
   "metadata": {},
   "outputs": [
    {
     "name": "stdout",
     "output_type": "stream",
     "text": [
      "Document 1 - Topic: [(0, 0.89277446), (1, 0.035743766), (2, 0.035742547), (3, 0.035739247)]\n",
      "Document 2 - Topic: [(0, 0.035774115), (1, 0.035756335), (2, 0.8927196), (3, 0.03574993)]\n",
      "Document 3 - Topic: [(0, 0.031292062), (1, 0.031857412), (2, 0.90557444), (3, 0.031276066)]\n",
      "Document 4 - Topic: [(0, 0.027820146), (1, 0.9156434), (2, 0.028551973), (3, 0.0279845)]\n",
      "Document 5 - Topic: [(0, 0.016696254), (1, 0.01677307), (2, 0.016687347), (3, 0.94984335)]\n",
      "Document 6 - Topic: [(0, 0.08350026), (1, 0.08345448), (2, 0.08344903), (3, 0.74959624)]\n",
      "Document 7 - Topic: [(0, 0.050079986), (1, 0.84981567), (2, 0.05005538), (3, 0.050049033)]\n"
     ]
    }
   ],
   "source": [
    "# Assign topics to documents\n",
    "for i, doc in enumerate(processed_documents):\n",
    "    print(f\"Document {i+1} - Topic: {lda_model_4.get_document_topics(corpus[i])}\")"
   ]
  },
  {
   "cell_type": "code",
   "execution_count": 10,
   "id": "ac2bfab0-2b8a-4a5b-b2e9-fccdd66d49b0",
   "metadata": {},
   "outputs": [
    {
     "name": "stdout",
     "output_type": "stream",
     "text": [
      "Document 1 - Topic: [(0, 0.017857186), (1, 0.017857194), (2, 0.87499964), (3, 0.017857201), (4, 0.017857186), (5, 0.017857201), (6, 0.017857185), (7, 0.017857183)]\n",
      "Document 2 - Topic: [(0, 0.87499964), (1, 0.017857194), (2, 0.017857186), (3, 0.017857201), (4, 0.017857186), (5, 0.017857201), (6, 0.017857185), (7, 0.017857183)]\n",
      "Document 3 - Topic: [(0, 0.015625035), (1, 0.015625041), (2, 0.015625035), (3, 0.015625047), (4, 0.8906187), (5, 0.015625047), (6, 0.01563109), (7, 0.015625032)]\n",
      "Document 4 - Topic: [(0, 0.013888942), (1, 0.01388895), (2, 0.013888942), (3, 0.01388896), (4, 0.013905542), (5, 0.01388896), (6, 0.90275776), (7, 0.013891902)]\n",
      "Document 5 - Topic: [(7, 0.9416651)]\n",
      "Document 6 - Topic: [(0, 0.041666735), (1, 0.70833284), (2, 0.041666735), (3, 0.04166676), (4, 0.041666735), (5, 0.04166676), (6, 0.04166673), (7, 0.041666728)]\n",
      "Document 7 - Topic: [(0, 0.025000101), (1, 0.025000116), (2, 0.025000101), (3, 0.02500013), (4, 0.025000097), (5, 0.02500013), (6, 0.8249992), (7, 0.025000088)]\n"
     ]
    }
   ],
   "source": [
    "# Assign topics to documents\n",
    "for i, doc in enumerate(processed_documents):\n",
    "    print(f\"Document {i+1} - Topic: {lda_model_8.get_document_topics(corpus[i])}\")"
   ]
  },
  {
   "cell_type": "code",
   "execution_count": 11,
   "id": "50c9823b-e219-4d10-bb2c-74f25b77f541",
   "metadata": {},
   "outputs": [
    {
     "name": "stdout",
     "output_type": "stream",
     "text": [
      "Document 1 - Topic: [(0, 0.017857186), (1, 0.017857194), (2, 0.87499964), (3, 0.017857201), (4, 0.017857186), (5, 0.017857201), (6, 0.017857185), (7, 0.017857183)]\n",
      "Document 2 - Topic: [(0, 0.87499964), (1, 0.017857192), (2, 0.017857185), (3, 0.0178572), (4, 0.017857185), (5, 0.0178572), (6, 0.01785718), (7, 0.017857179)]\n",
      "Document 3 - Topic: [(0, 0.015625035), (1, 0.015625041), (2, 0.015625035), (3, 0.015625047), (4, 0.8906192), (5, 0.015625047), (6, 0.015630549), (7, 0.015625032)]\n",
      "Document 4 - Topic: [(0, 0.013888942), (1, 0.01388895), (2, 0.013888942), (3, 0.01388896), (4, 0.013905821), (5, 0.01388896), (6, 0.90275747), (7, 0.013891902)]\n",
      "Document 5 - Topic: [(7, 0.9416651)]\n",
      "Document 6 - Topic: [(0, 0.041666735), (1, 0.70833284), (2, 0.041666735), (3, 0.04166676), (4, 0.041666735), (5, 0.04166676), (6, 0.04166673), (7, 0.041666728)]\n",
      "Document 7 - Topic: [(0, 0.025000101), (1, 0.025000116), (2, 0.025000101), (3, 0.02500013), (4, 0.025000097), (5, 0.02500013), (6, 0.8249992), (7, 0.025000088)]\n"
     ]
    }
   ],
   "source": [
    "# Assign topics to documents\n",
    "for i, doc in enumerate(processed_documents):\n",
    "    print(f\"Document {i+1} - Topic: {lda_model_8.get_document_topics(corpus[i])}\")"
   ]
  },
  {
   "cell_type": "raw",
   "id": "39e5ff4b-671d-429e-814e-5f67b60b2602",
   "metadata": {},
   "source": [
    "By adding more topics, the weight of each topic becomes smaller. There are some where the weight of a topic has a significanly larger share than the rest regardless of the number of topics. It is essential to assess the quality of topics for a better interpretability of the results"
   ]
  }
 ],
 "metadata": {
  "kernelspec": {
   "display_name": "Python 3 (ipykernel)",
   "language": "python",
   "name": "python3"
  },
  "language_info": {
   "codemirror_mode": {
    "name": "ipython",
    "version": 3
   },
   "file_extension": ".py",
   "mimetype": "text/x-python",
   "name": "python",
   "nbconvert_exporter": "python",
   "pygments_lexer": "ipython3",
   "version": "3.11.4"
  }
 },
 "nbformat": 4,
 "nbformat_minor": 5
}
