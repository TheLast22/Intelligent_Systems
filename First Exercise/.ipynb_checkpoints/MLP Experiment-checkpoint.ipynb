{
 "cells": [
  {
   "cell_type": "markdown",
   "id": "2b3c5949-8f17-4927-add2-beb10e5e0821",
   "metadata": {
    "tags": []
   },
   "source": [
    "## Importing Libraries"
   ]
  },
  {
   "cell_type": "code",
   "execution_count": 2,
   "id": "dbdbf7e9-eaf0-4fdc-980e-799524046c0d",
   "metadata": {
    "tags": []
   },
   "outputs": [],
   "source": [
    "import numpy as np\n",
    "import pandas as pd\n",
    "import tensorflow as tf"
   ]
  },
  {
   "cell_type": "markdown",
   "id": "a0c4b695-1828-48ec-a9d1-698e232d1678",
   "metadata": {
    "tags": []
   },
   "source": [
    "# Dataset Preprocessing"
   ]
  },
  {
   "cell_type": "markdown",
   "id": "684529c7-d81c-4665-8c58-2edf6507f6b5",
   "metadata": {
    "tags": []
   },
   "source": [
    "### Importing"
   ]
  },
  {
   "cell_type": "code",
   "execution_count": 3,
   "id": "381b44c9-658e-449e-940a-4c7b1e74a04a",
   "metadata": {
    "tags": []
   },
   "outputs": [],
   "source": [
    "dataset = pd.read_csv('diabetes_prediction_dataset.csv')"
   ]
  },
  {
   "cell_type": "code",
   "execution_count": 4,
   "id": "dc32c815-bd5a-41f0-9282-83a581c7e833",
   "metadata": {
    "tags": []
   },
   "outputs": [
    {
     "data": {
      "text/html": [
       "<div>\n",
       "<style scoped>\n",
       "    .dataframe tbody tr th:only-of-type {\n",
       "        vertical-align: middle;\n",
       "    }\n",
       "\n",
       "    .dataframe tbody tr th {\n",
       "        vertical-align: top;\n",
       "    }\n",
       "\n",
       "    .dataframe thead th {\n",
       "        text-align: right;\n",
       "    }\n",
       "</style>\n",
       "<table border=\"1\" class=\"dataframe\">\n",
       "  <thead>\n",
       "    <tr style=\"text-align: right;\">\n",
       "      <th></th>\n",
       "      <th>gender</th>\n",
       "      <th>age</th>\n",
       "      <th>hypertension</th>\n",
       "      <th>heart_disease</th>\n",
       "      <th>smoking_history</th>\n",
       "      <th>bmi</th>\n",
       "      <th>HbA1c_level</th>\n",
       "      <th>blood_glucose_level</th>\n",
       "      <th>diabetes</th>\n",
       "    </tr>\n",
       "  </thead>\n",
       "  <tbody>\n",
       "    <tr>\n",
       "      <th>0</th>\n",
       "      <td>Female</td>\n",
       "      <td>80.0</td>\n",
       "      <td>0</td>\n",
       "      <td>1</td>\n",
       "      <td>never</td>\n",
       "      <td>25.19</td>\n",
       "      <td>6.6</td>\n",
       "      <td>140</td>\n",
       "      <td>0</td>\n",
       "    </tr>\n",
       "    <tr>\n",
       "      <th>1</th>\n",
       "      <td>Female</td>\n",
       "      <td>54.0</td>\n",
       "      <td>0</td>\n",
       "      <td>0</td>\n",
       "      <td>No Info</td>\n",
       "      <td>27.32</td>\n",
       "      <td>6.6</td>\n",
       "      <td>80</td>\n",
       "      <td>0</td>\n",
       "    </tr>\n",
       "    <tr>\n",
       "      <th>2</th>\n",
       "      <td>Male</td>\n",
       "      <td>28.0</td>\n",
       "      <td>0</td>\n",
       "      <td>0</td>\n",
       "      <td>never</td>\n",
       "      <td>27.32</td>\n",
       "      <td>5.7</td>\n",
       "      <td>158</td>\n",
       "      <td>0</td>\n",
       "    </tr>\n",
       "    <tr>\n",
       "      <th>3</th>\n",
       "      <td>Female</td>\n",
       "      <td>36.0</td>\n",
       "      <td>0</td>\n",
       "      <td>0</td>\n",
       "      <td>current</td>\n",
       "      <td>23.45</td>\n",
       "      <td>5.0</td>\n",
       "      <td>155</td>\n",
       "      <td>0</td>\n",
       "    </tr>\n",
       "    <tr>\n",
       "      <th>4</th>\n",
       "      <td>Male</td>\n",
       "      <td>76.0</td>\n",
       "      <td>1</td>\n",
       "      <td>1</td>\n",
       "      <td>current</td>\n",
       "      <td>20.14</td>\n",
       "      <td>4.8</td>\n",
       "      <td>155</td>\n",
       "      <td>0</td>\n",
       "    </tr>\n",
       "    <tr>\n",
       "      <th>...</th>\n",
       "      <td>...</td>\n",
       "      <td>...</td>\n",
       "      <td>...</td>\n",
       "      <td>...</td>\n",
       "      <td>...</td>\n",
       "      <td>...</td>\n",
       "      <td>...</td>\n",
       "      <td>...</td>\n",
       "      <td>...</td>\n",
       "    </tr>\n",
       "    <tr>\n",
       "      <th>99995</th>\n",
       "      <td>Female</td>\n",
       "      <td>80.0</td>\n",
       "      <td>0</td>\n",
       "      <td>0</td>\n",
       "      <td>No Info</td>\n",
       "      <td>27.32</td>\n",
       "      <td>6.2</td>\n",
       "      <td>90</td>\n",
       "      <td>0</td>\n",
       "    </tr>\n",
       "    <tr>\n",
       "      <th>99996</th>\n",
       "      <td>Female</td>\n",
       "      <td>2.0</td>\n",
       "      <td>0</td>\n",
       "      <td>0</td>\n",
       "      <td>No Info</td>\n",
       "      <td>17.37</td>\n",
       "      <td>6.5</td>\n",
       "      <td>100</td>\n",
       "      <td>0</td>\n",
       "    </tr>\n",
       "    <tr>\n",
       "      <th>99997</th>\n",
       "      <td>Male</td>\n",
       "      <td>66.0</td>\n",
       "      <td>0</td>\n",
       "      <td>0</td>\n",
       "      <td>former</td>\n",
       "      <td>27.83</td>\n",
       "      <td>5.7</td>\n",
       "      <td>155</td>\n",
       "      <td>0</td>\n",
       "    </tr>\n",
       "    <tr>\n",
       "      <th>99998</th>\n",
       "      <td>Female</td>\n",
       "      <td>24.0</td>\n",
       "      <td>0</td>\n",
       "      <td>0</td>\n",
       "      <td>never</td>\n",
       "      <td>35.42</td>\n",
       "      <td>4.0</td>\n",
       "      <td>100</td>\n",
       "      <td>0</td>\n",
       "    </tr>\n",
       "    <tr>\n",
       "      <th>99999</th>\n",
       "      <td>Female</td>\n",
       "      <td>57.0</td>\n",
       "      <td>0</td>\n",
       "      <td>0</td>\n",
       "      <td>current</td>\n",
       "      <td>22.43</td>\n",
       "      <td>6.6</td>\n",
       "      <td>90</td>\n",
       "      <td>0</td>\n",
       "    </tr>\n",
       "  </tbody>\n",
       "</table>\n",
       "<p>100000 rows × 9 columns</p>\n",
       "</div>"
      ],
      "text/plain": [
       "       gender   age  hypertension  heart_disease smoking_history    bmi  \\\n",
       "0      Female  80.0             0              1           never  25.19   \n",
       "1      Female  54.0             0              0         No Info  27.32   \n",
       "2        Male  28.0             0              0           never  27.32   \n",
       "3      Female  36.0             0              0         current  23.45   \n",
       "4        Male  76.0             1              1         current  20.14   \n",
       "...       ...   ...           ...            ...             ...    ...   \n",
       "99995  Female  80.0             0              0         No Info  27.32   \n",
       "99996  Female   2.0             0              0         No Info  17.37   \n",
       "99997    Male  66.0             0              0          former  27.83   \n",
       "99998  Female  24.0             0              0           never  35.42   \n",
       "99999  Female  57.0             0              0         current  22.43   \n",
       "\n",
       "       HbA1c_level  blood_glucose_level  diabetes  \n",
       "0              6.6                  140         0  \n",
       "1              6.6                   80         0  \n",
       "2              5.7                  158         0  \n",
       "3              5.0                  155         0  \n",
       "4              4.8                  155         0  \n",
       "...            ...                  ...       ...  \n",
       "99995          6.2                   90         0  \n",
       "99996          6.5                  100         0  \n",
       "99997          5.7                  155         0  \n",
       "99998          4.0                  100         0  \n",
       "99999          6.6                   90         0  \n",
       "\n",
       "[100000 rows x 9 columns]"
      ]
     },
     "execution_count": 4,
     "metadata": {},
     "output_type": "execute_result"
    }
   ],
   "source": [
    "dataset"
   ]
  },
  {
   "cell_type": "markdown",
   "id": "aa2f1a35-6c82-4657-83e9-d245e68cfa00",
   "metadata": {},
   "source": [
    "### Divide the dataset according to which variables you want to experiment on"
   ]
  },
  {
   "cell_type": "code",
   "execution_count": 5,
   "id": "1e0371ed-3359-4f9d-a5d5-574cb85382d1",
   "metadata": {
    "tags": []
   },
   "outputs": [],
   "source": [
    "X = dataset.iloc[:, 0:-1].values\n",
    "y = dataset.iloc[:, -1].values"
   ]
  },
  {
   "cell_type": "code",
   "execution_count": 6,
   "id": "c2373217-84ac-4e5d-b7e2-472716ba64d7",
   "metadata": {
    "tags": []
   },
   "outputs": [
    {
     "data": {
      "text/html": [
       "<div>\n",
       "<style scoped>\n",
       "    .dataframe tbody tr th:only-of-type {\n",
       "        vertical-align: middle;\n",
       "    }\n",
       "\n",
       "    .dataframe tbody tr th {\n",
       "        vertical-align: top;\n",
       "    }\n",
       "\n",
       "    .dataframe thead th {\n",
       "        text-align: right;\n",
       "    }\n",
       "</style>\n",
       "<table border=\"1\" class=\"dataframe\">\n",
       "  <thead>\n",
       "    <tr style=\"text-align: right;\">\n",
       "      <th></th>\n",
       "      <th>Gender</th>\n",
       "      <th>Age</th>\n",
       "      <th>Hypertension</th>\n",
       "      <th>Heart_disease</th>\n",
       "      <th>Smoking_history</th>\n",
       "      <th>BMI</th>\n",
       "      <th>HbA1c_level</th>\n",
       "      <th>Blood_glucose_level</th>\n",
       "    </tr>\n",
       "  </thead>\n",
       "  <tbody>\n",
       "    <tr>\n",
       "      <th>0</th>\n",
       "      <td>Female</td>\n",
       "      <td>80.0</td>\n",
       "      <td>0</td>\n",
       "      <td>1</td>\n",
       "      <td>never</td>\n",
       "      <td>25.19</td>\n",
       "      <td>6.6</td>\n",
       "      <td>140</td>\n",
       "    </tr>\n",
       "    <tr>\n",
       "      <th>1</th>\n",
       "      <td>Female</td>\n",
       "      <td>54.0</td>\n",
       "      <td>0</td>\n",
       "      <td>0</td>\n",
       "      <td>No Info</td>\n",
       "      <td>27.32</td>\n",
       "      <td>6.6</td>\n",
       "      <td>80</td>\n",
       "    </tr>\n",
       "    <tr>\n",
       "      <th>2</th>\n",
       "      <td>Male</td>\n",
       "      <td>28.0</td>\n",
       "      <td>0</td>\n",
       "      <td>0</td>\n",
       "      <td>never</td>\n",
       "      <td>27.32</td>\n",
       "      <td>5.7</td>\n",
       "      <td>158</td>\n",
       "    </tr>\n",
       "    <tr>\n",
       "      <th>3</th>\n",
       "      <td>Female</td>\n",
       "      <td>36.0</td>\n",
       "      <td>0</td>\n",
       "      <td>0</td>\n",
       "      <td>current</td>\n",
       "      <td>23.45</td>\n",
       "      <td>5.0</td>\n",
       "      <td>155</td>\n",
       "    </tr>\n",
       "    <tr>\n",
       "      <th>4</th>\n",
       "      <td>Male</td>\n",
       "      <td>76.0</td>\n",
       "      <td>1</td>\n",
       "      <td>1</td>\n",
       "      <td>current</td>\n",
       "      <td>20.14</td>\n",
       "      <td>4.8</td>\n",
       "      <td>155</td>\n",
       "    </tr>\n",
       "    <tr>\n",
       "      <th>...</th>\n",
       "      <td>...</td>\n",
       "      <td>...</td>\n",
       "      <td>...</td>\n",
       "      <td>...</td>\n",
       "      <td>...</td>\n",
       "      <td>...</td>\n",
       "      <td>...</td>\n",
       "      <td>...</td>\n",
       "    </tr>\n",
       "    <tr>\n",
       "      <th>99995</th>\n",
       "      <td>Female</td>\n",
       "      <td>80.0</td>\n",
       "      <td>0</td>\n",
       "      <td>0</td>\n",
       "      <td>No Info</td>\n",
       "      <td>27.32</td>\n",
       "      <td>6.2</td>\n",
       "      <td>90</td>\n",
       "    </tr>\n",
       "    <tr>\n",
       "      <th>99996</th>\n",
       "      <td>Female</td>\n",
       "      <td>2.0</td>\n",
       "      <td>0</td>\n",
       "      <td>0</td>\n",
       "      <td>No Info</td>\n",
       "      <td>17.37</td>\n",
       "      <td>6.5</td>\n",
       "      <td>100</td>\n",
       "    </tr>\n",
       "    <tr>\n",
       "      <th>99997</th>\n",
       "      <td>Male</td>\n",
       "      <td>66.0</td>\n",
       "      <td>0</td>\n",
       "      <td>0</td>\n",
       "      <td>former</td>\n",
       "      <td>27.83</td>\n",
       "      <td>5.7</td>\n",
       "      <td>155</td>\n",
       "    </tr>\n",
       "    <tr>\n",
       "      <th>99998</th>\n",
       "      <td>Female</td>\n",
       "      <td>24.0</td>\n",
       "      <td>0</td>\n",
       "      <td>0</td>\n",
       "      <td>never</td>\n",
       "      <td>35.42</td>\n",
       "      <td>4.0</td>\n",
       "      <td>100</td>\n",
       "    </tr>\n",
       "    <tr>\n",
       "      <th>99999</th>\n",
       "      <td>Female</td>\n",
       "      <td>57.0</td>\n",
       "      <td>0</td>\n",
       "      <td>0</td>\n",
       "      <td>current</td>\n",
       "      <td>22.43</td>\n",
       "      <td>6.6</td>\n",
       "      <td>90</td>\n",
       "    </tr>\n",
       "  </tbody>\n",
       "</table>\n",
       "<p>100000 rows × 8 columns</p>\n",
       "</div>"
      ],
      "text/plain": [
       "       Gender   Age Hypertension Heart_disease Smoking_history    BMI  \\\n",
       "0      Female  80.0            0             1           never  25.19   \n",
       "1      Female  54.0            0             0         No Info  27.32   \n",
       "2        Male  28.0            0             0           never  27.32   \n",
       "3      Female  36.0            0             0         current  23.45   \n",
       "4        Male  76.0            1             1         current  20.14   \n",
       "...       ...   ...          ...           ...             ...    ...   \n",
       "99995  Female  80.0            0             0         No Info  27.32   \n",
       "99996  Female   2.0            0             0         No Info  17.37   \n",
       "99997    Male  66.0            0             0          former  27.83   \n",
       "99998  Female  24.0            0             0           never  35.42   \n",
       "99999  Female  57.0            0             0         current  22.43   \n",
       "\n",
       "      HbA1c_level Blood_glucose_level  \n",
       "0             6.6                 140  \n",
       "1             6.6                  80  \n",
       "2             5.7                 158  \n",
       "3             5.0                 155  \n",
       "4             4.8                 155  \n",
       "...           ...                 ...  \n",
       "99995         6.2                  90  \n",
       "99996         6.5                 100  \n",
       "99997         5.7                 155  \n",
       "99998         4.0                 100  \n",
       "99999         6.6                  90  \n",
       "\n",
       "[100000 rows x 8 columns]"
      ]
     },
     "execution_count": 6,
     "metadata": {},
     "output_type": "execute_result"
    }
   ],
   "source": [
    "pd.DataFrame(X, columns = [\"Gender\",\"Age\",\"Hypertension\",\"Heart_disease\",\"Smoking_history\",\"BMI\",\"HbA1c_level\",\"Blood_glucose_level\"])"
   ]
  },
  {
   "cell_type": "code",
   "execution_count": 7,
   "id": "9ca9e774-7e92-47a4-99b0-75c11c433b62",
   "metadata": {
    "tags": []
   },
   "outputs": [
    {
     "data": {
      "text/html": [
       "<div>\n",
       "<style scoped>\n",
       "    .dataframe tbody tr th:only-of-type {\n",
       "        vertical-align: middle;\n",
       "    }\n",
       "\n",
       "    .dataframe tbody tr th {\n",
       "        vertical-align: top;\n",
       "    }\n",
       "\n",
       "    .dataframe thead th {\n",
       "        text-align: right;\n",
       "    }\n",
       "</style>\n",
       "<table border=\"1\" class=\"dataframe\">\n",
       "  <thead>\n",
       "    <tr style=\"text-align: right;\">\n",
       "      <th></th>\n",
       "      <th>Diabetes</th>\n",
       "    </tr>\n",
       "  </thead>\n",
       "  <tbody>\n",
       "    <tr>\n",
       "      <th>0</th>\n",
       "      <td>0</td>\n",
       "    </tr>\n",
       "    <tr>\n",
       "      <th>1</th>\n",
       "      <td>0</td>\n",
       "    </tr>\n",
       "    <tr>\n",
       "      <th>2</th>\n",
       "      <td>0</td>\n",
       "    </tr>\n",
       "    <tr>\n",
       "      <th>3</th>\n",
       "      <td>0</td>\n",
       "    </tr>\n",
       "    <tr>\n",
       "      <th>4</th>\n",
       "      <td>0</td>\n",
       "    </tr>\n",
       "    <tr>\n",
       "      <th>...</th>\n",
       "      <td>...</td>\n",
       "    </tr>\n",
       "    <tr>\n",
       "      <th>99995</th>\n",
       "      <td>0</td>\n",
       "    </tr>\n",
       "    <tr>\n",
       "      <th>99996</th>\n",
       "      <td>0</td>\n",
       "    </tr>\n",
       "    <tr>\n",
       "      <th>99997</th>\n",
       "      <td>0</td>\n",
       "    </tr>\n",
       "    <tr>\n",
       "      <th>99998</th>\n",
       "      <td>0</td>\n",
       "    </tr>\n",
       "    <tr>\n",
       "      <th>99999</th>\n",
       "      <td>0</td>\n",
       "    </tr>\n",
       "  </tbody>\n",
       "</table>\n",
       "<p>100000 rows × 1 columns</p>\n",
       "</div>"
      ],
      "text/plain": [
       "       Diabetes\n",
       "0             0\n",
       "1             0\n",
       "2             0\n",
       "3             0\n",
       "4             0\n",
       "...         ...\n",
       "99995         0\n",
       "99996         0\n",
       "99997         0\n",
       "99998         0\n",
       "99999         0\n",
       "\n",
       "[100000 rows x 1 columns]"
      ]
     },
     "execution_count": 7,
     "metadata": {},
     "output_type": "execute_result"
    }
   ],
   "source": [
    "pd.DataFrame(y, columns = [\"Diabetes\"])"
   ]
  },
  {
   "cell_type": "code",
   "execution_count": 8,
   "id": "50585f8b-3667-4367-8b16-f17bb3ad6fd8",
   "metadata": {
    "tags": []
   },
   "outputs": [
    {
     "data": {
      "text/plain": [
       "array([['Female', 80.0, 0, ..., 25.19, 6.6, 140],\n",
       "       ['Female', 54.0, 0, ..., 27.32, 6.6, 80],\n",
       "       ['Male', 28.0, 0, ..., 27.32, 5.7, 158],\n",
       "       ...,\n",
       "       ['Male', 66.0, 0, ..., 27.83, 5.7, 155],\n",
       "       ['Female', 24.0, 0, ..., 35.42, 4.0, 100],\n",
       "       ['Female', 57.0, 0, ..., 22.43, 6.6, 90]], dtype=object)"
      ]
     },
     "execution_count": 8,
     "metadata": {},
     "output_type": "execute_result"
    }
   ],
   "source": [
    "X"
   ]
  },
  {
   "cell_type": "code",
   "execution_count": 9,
   "id": "69fbfd93-2ae3-40f7-b52d-57bec00fa201",
   "metadata": {
    "tags": []
   },
   "outputs": [
    {
     "data": {
      "text/plain": [
       "array([0, 0, 0, ..., 0, 0, 0], dtype=int64)"
      ]
     },
     "execution_count": 9,
     "metadata": {},
     "output_type": "execute_result"
    }
   ],
   "source": [
    "y"
   ]
  },
  {
   "cell_type": "markdown",
   "id": "9ce98fed-2f01-4626-8aa5-2bbf53cfdd34",
   "metadata": {},
   "source": [
    "### Encode Categorical Data (in this case, we label encode Gender Column)"
   ]
  },
  {
   "cell_type": "code",
   "execution_count": 10,
   "id": "30792906-4d2c-43bb-8c40-d5567efdf1e5",
   "metadata": {
    "tags": []
   },
   "outputs": [],
   "source": [
    "from sklearn.preprocessing import LabelEncoder\n",
    "le = LabelEncoder()\n",
    "X[:, 0] = le.fit_transform(X[:, 0])"
   ]
  },
  {
   "cell_type": "code",
   "execution_count": 11,
   "id": "1c8d0571-2345-4c76-a2ab-373c3ba9654a",
   "metadata": {
    "tags": []
   },
   "outputs": [
    {
     "name": "stdout",
     "output_type": "stream",
     "text": [
      "[[0 80.0 0 ... 25.19 6.6 140]\n",
      " [0 54.0 0 ... 27.32 6.6 80]\n",
      " [1 28.0 0 ... 27.32 5.7 158]\n",
      " ...\n",
      " [1 66.0 0 ... 27.83 5.7 155]\n",
      " [0 24.0 0 ... 35.42 4.0 100]\n",
      " [0 57.0 0 ... 22.43 6.6 90]]\n"
     ]
    }
   ],
   "source": [
    "print(X)"
   ]
  },
  {
   "cell_type": "markdown",
   "id": "63abb18b-3972-4f7c-a2b0-eaa38edc3300",
   "metadata": {
    "tags": []
   },
   "source": [
    "### One Hot Encoding the Smoking History Column (change into numerical)"
   ]
  },
  {
   "cell_type": "code",
   "execution_count": 12,
   "id": "738ea9eb-b50f-4049-b20f-cfad7d541138",
   "metadata": {
    "tags": []
   },
   "outputs": [],
   "source": [
    "from sklearn.compose import ColumnTransformer\n",
    "from sklearn.preprocessing import OneHotEncoder\n",
    "ct = ColumnTransformer(transformers=[('encoder', OneHotEncoder(), [4])], remainder='passthrough')\n",
    "X = np.array(ct.fit_transform(X))"
   ]
  },
  {
   "cell_type": "code",
   "execution_count": 13,
   "id": "77af5248-6c1d-4615-8a5c-7b39f7ddabcd",
   "metadata": {
    "tags": []
   },
   "outputs": [
    {
     "name": "stdout",
     "output_type": "stream",
     "text": [
      "[[0.0 0.0 0.0 ... 25.19 6.6 140]\n",
      " [1.0 0.0 0.0 ... 27.32 6.6 80]\n",
      " [0.0 0.0 0.0 ... 27.32 5.7 158]\n",
      " ...\n",
      " [0.0 0.0 0.0 ... 27.83 5.7 155]\n",
      " [0.0 0.0 0.0 ... 35.42 4.0 100]\n",
      " [0.0 1.0 0.0 ... 22.43 6.6 90]]\n"
     ]
    }
   ],
   "source": [
    "print(X)"
   ]
  },
  {
   "cell_type": "markdown",
   "id": "7f427a55-8804-4412-9b7b-6cac7a4ab866",
   "metadata": {},
   "source": [
    "### Splitting Dataset into Testing & Training"
   ]
  },
  {
   "cell_type": "code",
   "execution_count": 14,
   "id": "a1794462-37f7-4e33-ac5b-e104e494a548",
   "metadata": {},
   "outputs": [],
   "source": [
    "from sklearn.model_selection import train_test_split\n",
    "X_train, X_test, y_train, y_test = train_test_split(X, y, test_size = 0.2, random_state = 0)"
   ]
  },
  {
   "cell_type": "markdown",
   "id": "71a9ac08-2b55-4682-8311-63a0cd83cdaa",
   "metadata": {},
   "source": [
    "### Feature Scaling"
   ]
  },
  {
   "cell_type": "code",
   "execution_count": 15,
   "id": "991e9989-1e99-4880-8632-d86109e451ea",
   "metadata": {},
   "outputs": [],
   "source": [
    "from sklearn.preprocessing import StandardScaler\n",
    "sc = StandardScaler()\n",
    "X_train = sc.fit_transform(X_train)\n",
    "X_test = sc.transform(X_test)"
   ]
  },
  {
   "cell_type": "markdown",
   "id": "2f0ec057-7593-4fe3-b7d9-6e3b2709514b",
   "metadata": {},
   "source": [
    "# Building the Artficial Neural Network"
   ]
  },
  {
   "cell_type": "markdown",
   "id": "153f7289-25ad-498d-8631-4ab936bc24c3",
   "metadata": {},
   "source": [
    "### Initialize the ANN"
   ]
  },
  {
   "cell_type": "code",
   "execution_count": 16,
   "id": "f58d8bd9-c9ee-4e0c-b9be-9c92c566be59",
   "metadata": {},
   "outputs": [],
   "source": [
    "ann = tf.keras.models.Sequential()"
   ]
  },
  {
   "cell_type": "markdown",
   "id": "b68beea7-f025-40cc-ac28-8abce2d4feab",
   "metadata": {},
   "source": [
    "### Adding the Input Layer & 1st Hidden Layer"
   ]
  },
  {
   "cell_type": "code",
   "execution_count": 17,
   "id": "c2da80e3-fd46-406c-8960-a02fc026df44",
   "metadata": {},
   "outputs": [],
   "source": [
    "ann.add(tf.keras.layers.Dense(units=5, activation='sigmoid'))"
   ]
  },
  {
   "cell_type": "markdown",
   "id": "74161590-ea7a-41e8-86bc-45d955fd32bf",
   "metadata": {},
   "source": [
    "### Adding the 2nd Hidden layer"
   ]
  },
  {
   "cell_type": "code",
   "execution_count": 18,
   "id": "30e30dc1-a79b-4673-9bc5-354a815a50e6",
   "metadata": {},
   "outputs": [],
   "source": [
    "ann.add(tf.keras.layers.Dense(units=6, activation='sigmoid'))"
   ]
  },
  {
   "cell_type": "markdown",
   "id": "cdbd20ca-6463-4733-8274-4398d47897ae",
   "metadata": {},
   "source": [
    "### Adding the 3rd Hidden layer"
   ]
  },
  {
   "cell_type": "code",
   "execution_count": 19,
   "id": "7c67ef39-9c27-4718-97a2-a970175b5ae2",
   "metadata": {},
   "outputs": [],
   "source": [
    "#ann.add(tf.keras.layers.Dense(units=3, activation='relu'))"
   ]
  },
  {
   "cell_type": "markdown",
   "id": "fd589282-3eab-4636-a77b-c0c74fc7b8f1",
   "metadata": {},
   "source": [
    "### Adding the Output Layer"
   ]
  },
  {
   "cell_type": "code",
   "execution_count": 20,
   "id": "ba581cca-5f93-4597-a235-14bc89037a4c",
   "metadata": {},
   "outputs": [],
   "source": [
    "ann.add(tf.keras.layers.Dense(units=1, activation='sigmoid'))"
   ]
  },
  {
   "cell_type": "markdown",
   "id": "f511ab82-d3f2-4e30-b334-3c0e28369570",
   "metadata": {},
   "source": [
    "# Training the Artificial Neural Network"
   ]
  },
  {
   "cell_type": "markdown",
   "id": "97aabf2a-7671-4f82-add1-66ec8c1adf47",
   "metadata": {},
   "source": [
    "### Compiling the ANN"
   ]
  },
  {
   "cell_type": "code",
   "execution_count": 21,
   "id": "fe575da0-1a9b-4764-8877-3038fa505915",
   "metadata": {},
   "outputs": [],
   "source": [
    "#ann.compile(optimizer = 'adadelta', loss = 'binary_crossentropy', metrics = ['accuracy']) #Accuracy: 0.91485, linear 1st to 3rd Hidden Layer (5,4 3 units respectively)\n",
    "ann.compile(optimizer = 'adam', loss = 'binary_crossentropy', metrics = ['accuracy']) #Accuracy: 0.96815, sigmoid 1st and 2nd Hidden Layer[no 3rd] (5,6 units respectively)"
   ]
  },
  {
   "cell_type": "markdown",
   "id": "e284ff4d-4b91-444e-90a5-540380baba6a",
   "metadata": {},
   "source": [
    "### Using the Training Set"
   ]
  },
  {
   "cell_type": "code",
   "execution_count": 22,
   "id": "062b478d-827d-44c1-b582-b1b8b48a8663",
   "metadata": {},
   "outputs": [
    {
     "name": "stdout",
     "output_type": "stream",
     "text": [
      "Epoch 1/100\n",
      "2500/2500 [==============================] - 3s 901us/step - loss: 0.1995 - accuracy: 0.9280\n",
      "Epoch 2/100\n",
      "2500/2500 [==============================] - 2s 918us/step - loss: 0.1227 - accuracy: 0.9594\n",
      "Epoch 3/100\n",
      "2500/2500 [==============================] - 2s 917us/step - loss: 0.1185 - accuracy: 0.9600\n",
      "Epoch 4/100\n",
      "2500/2500 [==============================] - 2s 889us/step - loss: 0.1168 - accuracy: 0.9600\n",
      "Epoch 5/100\n",
      "2500/2500 [==============================] - 2s 890us/step - loss: 0.1158 - accuracy: 0.9601\n",
      "Epoch 6/100\n",
      "2500/2500 [==============================] - 2s 891us/step - loss: 0.1149 - accuracy: 0.9601\n",
      "Epoch 7/100\n",
      "2500/2500 [==============================] - 2s 893us/step - loss: 0.1144 - accuracy: 0.9602\n",
      "Epoch 8/100\n",
      "2500/2500 [==============================] - 2s 907us/step - loss: 0.1139 - accuracy: 0.9603\n",
      "Epoch 9/100\n",
      "2500/2500 [==============================] - 2s 910us/step - loss: 0.1135 - accuracy: 0.9607\n",
      "Epoch 10/100\n",
      "2500/2500 [==============================] - 2s 905us/step - loss: 0.1131 - accuracy: 0.9608\n",
      "Epoch 11/100\n",
      "2500/2500 [==============================] - 2s 917us/step - loss: 0.1129 - accuracy: 0.9607\n",
      "Epoch 12/100\n",
      "2500/2500 [==============================] - 2s 942us/step - loss: 0.1126 - accuracy: 0.9607\n",
      "Epoch 13/100\n",
      "2500/2500 [==============================] - 2s 953us/step - loss: 0.1124 - accuracy: 0.9609\n",
      "Epoch 14/100\n",
      "2500/2500 [==============================] - 2s 896us/step - loss: 0.1122 - accuracy: 0.9606\n",
      "Epoch 15/100\n",
      "2500/2500 [==============================] - 2s 907us/step - loss: 0.1119 - accuracy: 0.9610\n",
      "Epoch 16/100\n",
      "2500/2500 [==============================] - 2s 895us/step - loss: 0.1119 - accuracy: 0.9607\n",
      "Epoch 17/100\n",
      "2500/2500 [==============================] - 2s 932us/step - loss: 0.1116 - accuracy: 0.9611\n",
      "Epoch 18/100\n",
      "2500/2500 [==============================] - 2s 988us/step - loss: 0.1115 - accuracy: 0.9609\n",
      "Epoch 19/100\n",
      "2500/2500 [==============================] - 2s 966us/step - loss: 0.1114 - accuracy: 0.9607\n",
      "Epoch 20/100\n",
      "2500/2500 [==============================] - 2s 992us/step - loss: 0.1113 - accuracy: 0.9610\n",
      "Epoch 21/100\n",
      "2500/2500 [==============================] - 2s 890us/step - loss: 0.1113 - accuracy: 0.9611\n",
      "Epoch 22/100\n",
      "2500/2500 [==============================] - 2s 868us/step - loss: 0.1111 - accuracy: 0.9611\n",
      "Epoch 23/100\n",
      "2500/2500 [==============================] - 2s 865us/step - loss: 0.1110 - accuracy: 0.9614\n",
      "Epoch 24/100\n",
      "2500/2500 [==============================] - 2s 891us/step - loss: 0.1109 - accuracy: 0.9607\n",
      "Epoch 25/100\n",
      "2500/2500 [==============================] - 2s 882us/step - loss: 0.1108 - accuracy: 0.9610\n",
      "Epoch 26/100\n",
      "2500/2500 [==============================] - 2s 866us/step - loss: 0.1106 - accuracy: 0.9612\n",
      "Epoch 27/100\n",
      "2500/2500 [==============================] - 2s 884us/step - loss: 0.1106 - accuracy: 0.9612\n",
      "Epoch 28/100\n",
      "2500/2500 [==============================] - 2s 877us/step - loss: 0.1104 - accuracy: 0.9610\n",
      "Epoch 29/100\n",
      "2500/2500 [==============================] - 2s 860us/step - loss: 0.1104 - accuracy: 0.9612\n",
      "Epoch 30/100\n",
      "2500/2500 [==============================] - 2s 917us/step - loss: 0.1103 - accuracy: 0.9610\n",
      "Epoch 31/100\n",
      "2500/2500 [==============================] - 2s 875us/step - loss: 0.1102 - accuracy: 0.9612\n",
      "Epoch 32/100\n",
      "2500/2500 [==============================] - 2s 861us/step - loss: 0.1101 - accuracy: 0.9609\n",
      "Epoch 33/100\n",
      "2500/2500 [==============================] - 2s 856us/step - loss: 0.1101 - accuracy: 0.9612\n",
      "Epoch 34/100\n",
      "2500/2500 [==============================] - 2s 853us/step - loss: 0.1099 - accuracy: 0.9614\n",
      "Epoch 35/100\n",
      "2500/2500 [==============================] - 2s 839us/step - loss: 0.1098 - accuracy: 0.9611\n",
      "Epoch 36/100\n",
      "2500/2500 [==============================] - 2s 823us/step - loss: 0.1098 - accuracy: 0.9611\n",
      "Epoch 37/100\n",
      "2500/2500 [==============================] - 2s 827us/step - loss: 0.1098 - accuracy: 0.9612\n",
      "Epoch 38/100\n",
      "2500/2500 [==============================] - 2s 837us/step - loss: 0.1097 - accuracy: 0.9614\n",
      "Epoch 39/100\n",
      "2500/2500 [==============================] - 2s 828us/step - loss: 0.1097 - accuracy: 0.9611\n",
      "Epoch 40/100\n",
      "2500/2500 [==============================] - 2s 841us/step - loss: 0.1096 - accuracy: 0.9613\n",
      "Epoch 41/100\n",
      "2500/2500 [==============================] - 2s 837us/step - loss: 0.1095 - accuracy: 0.9612\n",
      "Epoch 42/100\n",
      "2500/2500 [==============================] - 2s 840us/step - loss: 0.1094 - accuracy: 0.9611\n",
      "Epoch 43/100\n",
      "2500/2500 [==============================] - 2s 835us/step - loss: 0.1093 - accuracy: 0.9614\n",
      "Epoch 44/100\n",
      "2500/2500 [==============================] - 2s 833us/step - loss: 0.1093 - accuracy: 0.9613\n",
      "Epoch 45/100\n",
      "2500/2500 [==============================] - 2s 834us/step - loss: 0.1092 - accuracy: 0.9613\n",
      "Epoch 46/100\n",
      "2500/2500 [==============================] - 2s 835us/step - loss: 0.1091 - accuracy: 0.9611\n",
      "Epoch 47/100\n",
      "2500/2500 [==============================] - 2s 828us/step - loss: 0.1090 - accuracy: 0.9611\n",
      "Epoch 48/100\n",
      "2500/2500 [==============================] - 2s 831us/step - loss: 0.1089 - accuracy: 0.9611\n",
      "Epoch 49/100\n",
      "2500/2500 [==============================] - 2s 839us/step - loss: 0.1089 - accuracy: 0.9615\n",
      "Epoch 50/100\n",
      "2500/2500 [==============================] - 2s 832us/step - loss: 0.1088 - accuracy: 0.9614\n",
      "Epoch 51/100\n",
      "2500/2500 [==============================] - 2s 830us/step - loss: 0.1087 - accuracy: 0.9612\n",
      "Epoch 52/100\n",
      "2500/2500 [==============================] - 2s 829us/step - loss: 0.1086 - accuracy: 0.9613\n",
      "Epoch 53/100\n",
      "2500/2500 [==============================] - 2s 850us/step - loss: 0.1085 - accuracy: 0.9613\n",
      "Epoch 54/100\n",
      "2500/2500 [==============================] - 2s 836us/step - loss: 0.1083 - accuracy: 0.9612\n",
      "Epoch 55/100\n",
      "2500/2500 [==============================] - 2s 829us/step - loss: 0.1080 - accuracy: 0.9611\n",
      "Epoch 56/100\n",
      "2500/2500 [==============================] - 2s 821us/step - loss: 0.1077 - accuracy: 0.9611\n",
      "Epoch 57/100\n",
      "2500/2500 [==============================] - 2s 826us/step - loss: 0.1074 - accuracy: 0.9614\n",
      "Epoch 58/100\n",
      "2500/2500 [==============================] - 2s 838us/step - loss: 0.1071 - accuracy: 0.9612\n",
      "Epoch 59/100\n",
      "2500/2500 [==============================] - 2s 832us/step - loss: 0.1066 - accuracy: 0.9611\n",
      "Epoch 60/100\n",
      "2500/2500 [==============================] - 2s 829us/step - loss: 0.1063 - accuracy: 0.9613\n",
      "Epoch 61/100\n",
      "2500/2500 [==============================] - 2s 825us/step - loss: 0.1058 - accuracy: 0.9613\n",
      "Epoch 62/100\n",
      "2500/2500 [==============================] - 2s 835us/step - loss: 0.1054 - accuracy: 0.9613\n",
      "Epoch 63/100\n",
      "2500/2500 [==============================] - 2s 834us/step - loss: 0.1049 - accuracy: 0.9615\n",
      "Epoch 64/100\n",
      "2500/2500 [==============================] - 2s 846us/step - loss: 0.1043 - accuracy: 0.9618\n",
      "Epoch 65/100\n",
      "2500/2500 [==============================] - 2s 836us/step - loss: 0.1036 - accuracy: 0.9619\n",
      "Epoch 66/100\n",
      "2500/2500 [==============================] - 2s 834us/step - loss: 0.1029 - accuracy: 0.9622\n",
      "Epoch 67/100\n",
      "2500/2500 [==============================] - 2s 834us/step - loss: 0.1020 - accuracy: 0.9630\n",
      "Epoch 68/100\n",
      "2500/2500 [==============================] - 2s 829us/step - loss: 0.1013 - accuracy: 0.9635\n",
      "Epoch 69/100\n",
      "2500/2500 [==============================] - 2s 833us/step - loss: 0.1005 - accuracy: 0.9639\n",
      "Epoch 70/100\n",
      "2500/2500 [==============================] - 2s 825us/step - loss: 0.1000 - accuracy: 0.9642\n",
      "Epoch 71/100\n",
      "2500/2500 [==============================] - 2s 829us/step - loss: 0.0996 - accuracy: 0.9647\n",
      "Epoch 72/100\n",
      "2500/2500 [==============================] - 2s 824us/step - loss: 0.0992 - accuracy: 0.9649\n",
      "Epoch 73/100\n",
      "2500/2500 [==============================] - 2s 837us/step - loss: 0.0989 - accuracy: 0.9652\n",
      "Epoch 74/100\n",
      "2500/2500 [==============================] - 2s 824us/step - loss: 0.0986 - accuracy: 0.9656\n",
      "Epoch 75/100\n",
      "2500/2500 [==============================] - 2s 842us/step - loss: 0.0982 - accuracy: 0.9657\n",
      "Epoch 76/100\n",
      "2500/2500 [==============================] - 2s 880us/step - loss: 0.0978 - accuracy: 0.9660\n",
      "Epoch 77/100\n",
      "2500/2500 [==============================] - 2s 827us/step - loss: 0.0975 - accuracy: 0.9660\n",
      "Epoch 78/100\n",
      "2500/2500 [==============================] - 2s 873us/step - loss: 0.0972 - accuracy: 0.9666\n",
      "Epoch 79/100\n",
      "2500/2500 [==============================] - 2s 863us/step - loss: 0.0969 - accuracy: 0.9668\n",
      "Epoch 80/100\n",
      "2500/2500 [==============================] - 2s 888us/step - loss: 0.0966 - accuracy: 0.9670\n",
      "Epoch 81/100\n",
      "2500/2500 [==============================] - 2s 852us/step - loss: 0.0963 - accuracy: 0.9672\n",
      "Epoch 82/100\n",
      "2500/2500 [==============================] - 2s 870us/step - loss: 0.0960 - accuracy: 0.9672\n",
      "Epoch 83/100\n",
      "2500/2500 [==============================] - 2s 900us/step - loss: 0.0959 - accuracy: 0.9673\n",
      "Epoch 84/100\n",
      "2500/2500 [==============================] - 2s 881us/step - loss: 0.0956 - accuracy: 0.9674\n",
      "Epoch 85/100\n",
      "2500/2500 [==============================] - 2s 845us/step - loss: 0.0954 - accuracy: 0.9676\n",
      "Epoch 86/100\n",
      "2500/2500 [==============================] - 2s 826us/step - loss: 0.0952 - accuracy: 0.9675\n",
      "Epoch 87/100\n",
      "2500/2500 [==============================] - 2s 820us/step - loss: 0.0950 - accuracy: 0.9679\n",
      "Epoch 88/100\n",
      "2500/2500 [==============================] - 2s 822us/step - loss: 0.0948 - accuracy: 0.9681\n",
      "Epoch 89/100\n",
      "2500/2500 [==============================] - 2s 876us/step - loss: 0.0946 - accuracy: 0.9682\n",
      "Epoch 90/100\n",
      "2500/2500 [==============================] - 2s 929us/step - loss: 0.0944 - accuracy: 0.9682\n",
      "Epoch 91/100\n",
      "2500/2500 [==============================] - 2s 862us/step - loss: 0.0942 - accuracy: 0.9682\n",
      "Epoch 92/100\n",
      "2500/2500 [==============================] - 2s 858us/step - loss: 0.0939 - accuracy: 0.9685\n",
      "Epoch 93/100\n",
      "2500/2500 [==============================] - 2s 885us/step - loss: 0.0938 - accuracy: 0.9686\n",
      "Epoch 94/100\n",
      "2500/2500 [==============================] - 2s 863us/step - loss: 0.0935 - accuracy: 0.9685\n",
      "Epoch 95/100\n",
      "2500/2500 [==============================] - 2s 830us/step - loss: 0.0932 - accuracy: 0.9687\n",
      "Epoch 96/100\n",
      "2500/2500 [==============================] - 2s 814us/step - loss: 0.0931 - accuracy: 0.9685\n",
      "Epoch 97/100\n",
      "2500/2500 [==============================] - 2s 819us/step - loss: 0.0929 - accuracy: 0.9688\n",
      "Epoch 98/100\n",
      "2500/2500 [==============================] - 2s 851us/step - loss: 0.0928 - accuracy: 0.9687\n",
      "Epoch 99/100\n",
      "2500/2500 [==============================] - 2s 885us/step - loss: 0.0926 - accuracy: 0.9689\n",
      "Epoch 100/100\n",
      "2500/2500 [==============================] - 2s 906us/step - loss: 0.0923 - accuracy: 0.9689\n"
     ]
    },
    {
     "data": {
      "text/plain": [
       "<keras.src.callbacks.History at 0x16b80eae110>"
      ]
     },
     "execution_count": 22,
     "metadata": {},
     "output_type": "execute_result"
    }
   ],
   "source": [
    "ann.fit(X_train, y_train, batch_size = 32, epochs = 100)"
   ]
  },
  {
   "cell_type": "markdown",
   "id": "5027c02e-6ebd-4265-a3db-3b0844da8372",
   "metadata": {
    "tags": []
   },
   "source": [
    "# Predictions & Evaluating the Model"
   ]
  },
  {
   "cell_type": "markdown",
   "id": "9d280ed5-bf84-4523-9259-5a9e7083d53d",
   "metadata": {},
   "source": [
    "### Predicting Test Set Results"
   ]
  },
  {
   "cell_type": "code",
   "execution_count": 23,
   "id": "d70b5968-6b73-461e-a204-099be1abd627",
   "metadata": {},
   "outputs": [
    {
     "name": "stdout",
     "output_type": "stream",
     "text": [
      "625/625 [==============================] - 1s 715us/step\n",
      "[[0 0]\n",
      " [0 0]\n",
      " [0 0]\n",
      " ...\n",
      " [0 0]\n",
      " [0 0]\n",
      " [0 0]]\n"
     ]
    }
   ],
   "source": [
    "y_pred = ann.predict(X_test)\n",
    "y_pred = (y_pred > 0.5)\n",
    "print(np.concatenate((y_pred.reshape(len(y_pred),1), y_test.reshape(len(y_test),1)),1))"
   ]
  },
  {
   "cell_type": "markdown",
   "id": "c3d06f7a-a81f-4818-bd2a-c919bbc7a6f1",
   "metadata": {},
   "source": [
    "### Confusion Matrix"
   ]
  },
  {
   "cell_type": "code",
   "execution_count": 24,
   "id": "eec2ee6b-4118-4d71-95e7-6b33839ec5cb",
   "metadata": {},
   "outputs": [
    {
     "name": "stdout",
     "output_type": "stream",
     "text": [
      "[[18249    48]\n",
      " [  589  1114]]\n",
      "Accuracy: 0.96815\n",
      "Specificity: 0.9973766191178882\n",
      "Sensitivity: 0.6541397533763946\n"
     ]
    }
   ],
   "source": [
    "from sklearn.metrics import confusion_matrix, accuracy_score, classification_report\n",
    "import matplotlib.pyplot as plt\n",
    "conf_matrix = confusion_matrix(y_test, y_pred)\n",
    "print(conf_matrix)\n",
    "accuracy = accuracy_score(y_test, y_pred)\n",
    "\n",
    "tn, fp, fn, tp = confusion_matrix(y_test, y_pred).ravel()\n",
    "specificity = tn / (tn+fp)\n",
    "sensitivity = tp / (tp+fn)\n",
    "print(\"Accuracy: \" + str(accuracy))\n",
    "print(\"Specificity: \" + str(specificity))\n",
    "print(\"Sensitivity: \" + str(sensitivity))"
   ]
  },
  {
   "cell_type": "code",
   "execution_count": 25,
   "id": "4365e1f4-381b-43f6-9746-4854093dba10",
   "metadata": {},
   "outputs": [
    {
     "data": {
      "image/png": "[encoded data removed]",
      "text/plain": [
       "<Figure size 750x750 with 1 Axes>"
      ]
     },
     "metadata": {},
     "output_type": "display_data"
    }
   ],
   "source": [
    "fig, ax = plt.subplots(figsize=(7.5, 7.5))\n",
    "ax.matshow(conf_matrix, cmap=plt.cm.Blues, alpha=0.3)\n",
    "for i in range(conf_matrix.shape[0]):\n",
    "    for j in range(conf_matrix.shape[1]):\n",
    "        ax.text(x=j, y=i,s=conf_matrix[i, j], va='center', ha='center', size='xx-large')\n",
    " \n",
    "plt.xlabel('Predictions', fontsize=18)\n",
    "plt.ylabel('Actuals', fontsize=18)\n",
    "plt.title('Confusion Matrix', fontsize=18)\n",
    "plt.show()"
   ]
  },
  {
   "cell_type": "code",
   "execution_count": 27,
   "id": "63dcbf26-ff8e-435a-9d41-9d449c21e0a8",
   "metadata": {
    "tags": []
   },
   "outputs": [],
   "source": [
    "# Weird results from my initial experiment of Adadelta, 3 Hidden Linear Layers with (5,4,3 units)\n",
    "# [[18297     0]\n",
    "#  [ 1703     0]]\n",
    "# Accuracy: 0.91485\n",
    "# Specificity: 1.0\n",
    "# Sensitivity: 0.0\n",
    "\n",
    "# Compared to results from current selection, it seems that the current experiment is a better model"
   ]
  }
 ],
 "metadata": {
  "kernelspec": {
   "display_name": "Python 3 (ipykernel)",
   "language": "python",
   "name": "python3"
  },
  "language_info": {
   "codemirror_mode": {
    "name": "ipython",
    "version": 3
   },
   "file_extension": ".py",
   "mimetype": "text/x-python",
   "name": "python",
   "nbconvert_exporter": "python",
   "pygments_lexer": "ipython3",
   "version": "3.11.4"
  }
 },
 "nbformat": 4,
 "nbformat_minor": 5
}
